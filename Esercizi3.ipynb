{
 "cells": [
  {
   "cell_type": "markdown",
   "metadata": {},
   "source": [
    "## Introduzione alla programmazione \n",
    "## Sessione esercitazione #3"
   ]
  },
  {
   "cell_type": "markdown",
   "metadata": {},
   "source": [
    "#### Esercizio 1 - PalindromeInt\n",
    "Scrivere un programma che acquisito un *numero intero* strettamente positivo (e fino a quando non\n",
    "è tale lo si richiede all'utente), visualizza True se è palindromo, False altrimenti. Un numero è\n",
    "palindromo se letto da destra a sinistra o viceversa, la sequenza delle cifre è la stessa."
   ]
  },
  {
   "cell_type": "code",
   "execution_count": 1,
   "metadata": {},
   "outputs": [
    {
     "name": "stdout",
     "output_type": "stream",
     "text": [
      "Inserisci un numero intero strettamente positivo: 3545463\n",
      "False\n"
     ]
    }
   ],
   "source": [
    "nums = raw_input('Inserisci un numero intero strettamente positivo: ')\n",
    "numi = int(nums)\n",
    "while numi <= 0:\n",
    "    nums = raw_input('Il numero intero deve essere strettamente positivo: ')\n",
    "    numi = int(nums)\n",
    "#il dato e' senz'altro valido\n",
    "tmp = numi / 10\n",
    "maxp = 1\n",
    "while tmp > 0:\n",
    "    maxp = maxp * 10\n",
    "    tmp = tmp / 10\n",
    "# numi 123456\n",
    "# maxp 100000\n",
    "pal = True\n",
    "tmp = numi\n",
    "while pal and tmp > 0:\n",
    "    dx = tmp % 10\n",
    "    sx = tmp / maxp\n",
    "    if dx != sx:\n",
    "        pal = False\n",
    "    else:\n",
    "        tmp = tmp - dx * maxp\n",
    "        tmp = tmp / 10\n",
    "        maxp = maxp / 100\n",
    "print pal"
   ]
  },
  {
   "cell_type": "markdown",
   "metadata": {},
   "source": [
    "#### Esercizio 2 - PalindromeStr\n",
    "Scrivere un programma che acquisita una stringa che corrisponde ad un numero intero strettamente\n",
    "positivo (e fino a quando non è tale lo si richiede all'utente), visualizza True se è palindromo,\n",
    "False altrimenti. Un numero è palindromo se letto da destra a sinistra o viceversa, la sequenza\n",
    "delle cifre è la stessa."
   ]
  },
  {
   "cell_type": "code",
   "execution_count": 2,
   "metadata": {},
   "outputs": [
    {
     "name": "stdout",
     "output_type": "stream",
     "text": [
      "Inserisci un numero intero strettamente positivo: 43545665\n",
      "5 4\n",
      "False\n"
     ]
    }
   ],
   "source": [
    "nums = raw_input('Inserisci un numero intero strettamente positivo: ')\n",
    "pal = True\n",
    "i = 0\n",
    "dim = len(nums)\n",
    "dim2 = dim / 2\n",
    "while pal and i < dim2:\n",
    "    dx = nums[dim-1-i]\n",
    "    sx = nums[i]\n",
    "#    print dx, sx\n",
    "    if dx != sx:\n",
    "        pal = False\n",
    "    else:\n",
    "        i = i + 1\n",
    "print pal\n"
   ]
  },
  {
   "cell_type": "markdown",
   "metadata": {},
   "source": [
    "#### Esercizio 3 - Anagramma\n",
    "Si realizzi il programma che acquisite due stringhe, visualizza True se una è l'anagramma dell'altra,\n",
    "False altrimenti."
   ]
  },
  {
   "cell_type": "code",
   "execution_count": 3,
   "metadata": {},
   "outputs": [
    {
     "name": "stdout",
     "output_type": "stream",
     "text": [
      "ananas\n",
      "sanax\n",
      "False\n"
     ]
    }
   ],
   "source": [
    "USATO = '+'\n",
    "NONUSATO = ' '\n",
    "str1 = raw_input('')\n",
    "str2 = raw_input('')\n",
    "\n",
    "len1 = len(str1)\n",
    "len2 = len(str2)\n",
    "\n",
    "if len1 != len2:\n",
    "\teAnagramma = False\n",
    "else:\n",
    "\tcarattere = []\n",
    "\tfor i in range(len1):\n",
    "\t\tcarattere.append(NONUSATO)\n",
    "\n",
    "\teAnagramma = True\n",
    "\ti = 0\n",
    "\twhile i < len1 and eAnagramma == True:\n",
    "\t\ttrovato = False\n",
    "\t\tj = 0\n",
    "\t\twhile (j < len2) and (trovato == False):\n",
    "\t\t\tif (str1[i] == str2[j]) and (carattere[j] == NONUSATO):\n",
    "\t\t\t\tcarattere[j] = USATO\n",
    "\t\t\t\ttrovato = True\n",
    "\t\t\telse:\n",
    "\t\t\t\tj = j + 1\n",
    "\t\tif not trovato:\n",
    "\t\t\teAnagramma = False\n",
    "\t\t\t#significa che il carattere str1[i] non compare in str2\n",
    "\t\t\t#oppure e' gia' stato usato\n",
    "\t\t\t#quindi sappiamo che non e' un anagramma .. inutile continuare\n",
    "\t\telse:\n",
    "\t\t\ti = i + 1\n",
    "print eAnagramma"
   ]
  },
  {
   "cell_type": "markdown",
   "metadata": {},
   "source": [
    "Versione alternativa"
   ]
  },
  {
   "cell_type": "code",
   "execution_count": 4,
   "metadata": {},
   "outputs": [
    {
     "name": "stdout",
     "output_type": "stream",
     "text": [
      "ananas\n",
      "sanax\n",
      "False\n"
     ]
    }
   ],
   "source": [
    "str1 = raw_input('')\n",
    "str2 = raw_input('')\n",
    "\n",
    "if len(str1) != len(str2):\n",
    "\teAnagramma = False\n",
    "else:\n",
    "\tstr1list = list(str1)\n",
    "\tstr2list = list(str2)\n",
    "\tstr1list.sort()\n",
    "\tstr2list.sort()\n",
    "\tif str1list == str2list:\n",
    "\t\teAnagramma = True\n",
    "\telse:\n",
    "\t\teAnagramma = False\n",
    "\n",
    "print eAnagramma\n"
   ]
  },
  {
   "cell_type": "markdown",
   "metadata": {},
   "source": [
    "#### Esercizio 4 - Conta caratteri\n",
    "Scrivere un programma che acquisisca una stringa e visualizza per ogni carattere presente nella stringa (e solo per quelli) quante volte compare nella stringa."
   ]
  },
  {
   "cell_type": "code",
   "execution_count": 5,
   "metadata": {},
   "outputs": [
    {
     "name": "stdout",
     "output_type": "stream",
     "text": [
      "allegramente me ne vado\n",
      "a 3\n",
      "l 2\n",
      "e 5\n",
      "g 1\n",
      "r 1\n",
      "m 2\n",
      "n 2\n",
      "t 1\n",
      "  3\n",
      "v 1\n",
      "d 1\n",
      "o 1\n"
     ]
    }
   ],
   "source": [
    "seq = raw_input('')\n",
    "\n",
    "dim = len(seq)\n",
    "listacar = list(seq)\n",
    "\n",
    "frequenze = []\n",
    "for i in range(dim):\n",
    "\tcar = listacar[i]\n",
    "\ttrovato = False\n",
    "\tfor el in frequenze:\n",
    "\t\t#el = ['c', 1]\n",
    "\t\tif el[0] == car:\n",
    "\t\t\tel[1] = el[1] + 1\n",
    "\t\t\ttrovato = True\n",
    "\t\t\tbreak\n",
    "\tif not trovato:\n",
    "\t\t#aggiungiamo il nuovo carattere, che abbiamo trovato una volta\n",
    "\t\tfrequenze.append([car, 1])\n",
    "\n",
    "#visualizzazione finale\n",
    "for el in frequenze:\n",
    "\t#per non avere tutte le parentesi ...\n",
    "\t#confronta con\n",
    "\t#print print el\n",
    "\tprint el[0], el[1]"
   ]
  },
  {
   "cell_type": "markdown",
   "metadata": {},
   "source": [
    "#### Esercizio 5 - Parola più lunga\n",
    "Scrivere un programma che acquisisca una stringa che contiene vocaboli separati da spazi (una frase, senza segni di interpunzione) e visualizza il vocabolo più lungo presente."
   ]
  },
  {
   "cell_type": "code",
   "execution_count": 6,
   "metadata": {},
   "outputs": [
    {
     "name": "stdout",
     "output_type": "stream",
     "text": [
      "dai che facciamo un test per il mio programma\n",
      "['dai', 'che', 'facciamo', 'un', 'test', 'per', 'il', 'mio', 'programma']\n",
      "programma\n"
     ]
    }
   ],
   "source": [
    "frase = raw_input('')\n",
    "\n",
    "parole = frase.split()\n",
    "#print parole\n",
    "numparole = len(parole)\n",
    "\n",
    "imax = 0\n",
    "for i in range(numparole):\n",
    "\tif len(parole[i]) > len(parole[imax]):\n",
    "\t\timax = i\n",
    "\n",
    "print parole[imax]"
   ]
  }
 ],
 "metadata": {
  "kernelspec": {
   "display_name": "Python 2",
   "language": "python",
   "name": "python2"
  },
  "language_info": {
   "codemirror_mode": {
    "name": "ipython",
    "version": 2
   },
   "file_extension": ".py",
   "mimetype": "text/x-python",
   "name": "python",
   "nbconvert_exporter": "python",
   "pygments_lexer": "ipython2",
   "version": "2.7.15"
  }
 },
 "nbformat": 4,
 "nbformat_minor": 2
}
