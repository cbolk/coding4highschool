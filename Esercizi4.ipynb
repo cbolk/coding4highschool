{
 "cells": [
  {
   "cell_type": "markdown",
   "metadata": {},
   "source": [
    "#### Introduzione alla programmazione \n",
    "## Sessione esercitazione #4"
   ]
  },
  {
   "cell_type": "markdown",
   "metadata": {},
   "source": [
    "#### Esercizio 1 - Fattoriale\n",
    "Scrivere un sottoprogramma che ricevuto in ingresso un numero intero senz'altro positivo calcola e\n",
    "**restituisce** il suo fattori"
   ]
  },
  {
   "cell_type": "code",
   "execution_count": 2,
   "metadata": {},
   "outputs": [
    {
     "name": "stdout",
     "output_type": "stream",
     "text": [
      "1\n",
      "2\n",
      "3\n",
      "6\n",
      "5\n",
      "-7\n",
      "-9\n",
      "0\n",
      "32\n",
      "43\n",
      "21\n",
      "5\n",
      "6\n",
      "3\n",
      "2\n",
      "43\n"
     ]
    }
   ],
   "source": [
    "def fattoriale(num):\n",
    "\tfatt = 1\n",
    "\tfor i in range(2,num+1):\n",
    "\t\tfatt = fatt * i\n",
    "\treturn fatt\n",
    "\n",
    "val = int(raw_input(''))\n",
    "ris = fattoriale(val)\n",
    "print ris"
   ]
  },
  {
   "cell_type": "markdown",
   "metadata": {},
   "source": [
    "#### Esercizio 2 - Combinazioni\n",
    "Scrivere un programma che chiesti all'utente ``n`` e ``k``, strettamente positivi e con k <= n (e finché i\n",
    "vincoli non sono rispettati vengono richiesti i valori) calcola e visualizza il numero di combinazioni di\n",
    "``n`` elementi, presi ``k`` alla volta. Questo valore si calcola come ``n!/k!(n-k)!`` indicato anche come binomiale ``(n,k)``. \n",
    "Ad esempio, se abbiamo n = 3 simboli ('``x``', '``y``' e '``z``') e vogliamo trovare tutte le combinazioni di ``k`` = 2 di tali simboli si hanno 3 combinazioni possibili:\n",
    "xy\n",
    "xz\n",
    "yz\n"
   ]
  },
  {
   "cell_type": "code",
   "execution_count": 1,
   "metadata": {},
   "outputs": [
    {
     "name": "stdout",
     "output_type": "stream",
     "text": [
      "3\n",
      "2\n",
      "3\n"
     ]
    }
   ],
   "source": [
    "def fattoriale(num):\n",
    "\tfatt = 1\n",
    "\tfor i in range(2,num+1):\n",
    "\t\tfatt = fatt * i\n",
    "\treturn fatt\n",
    "\n",
    "n = int(raw_input(''))\n",
    "k = int(raw_input(''))\n",
    "\n",
    "comb = fattoriale(n) / (fattoriale(k)*fattoriale(n-k))\n",
    "\n",
    "print comb"
   ]
  },
  {
   "cell_type": "markdown",
   "metadata": {},
   "source": [
    "#### Esercizio 3 - Anagrammi\n",
    "Si realizzi il programma che acquisisce una stringa e cerca nel dizionario italiano (file res/dizionario.txt)\n",
    "tutti i vocaboli che ne sono un anagramma, visualizzandoli e al termine indicandone il numero totale.\n",
    "Usare un sottoprogramma per la verifica dell'anagramma.\n",
    "Per esempio, se l'utente inserisce il vocabolo \n",
    "caro\n",
    "il programma visualizza\n",
    "acro\n",
    "arco\n",
    "ocra\n",
    "orca\n",
    "roca\n",
    "5\n",
    "\n",
    "**Attenzione**: caro non viene visualizzato come anagramma di se stesso :)"
   ]
  },
  {
   "cell_type": "code",
   "execution_count": 6,
   "metadata": {},
   "outputs": [
    {
     "name": "stdout",
     "output_type": "stream",
     "text": [
      "caro\n",
      "acro\n",
      "arco\n",
      "ocra\n",
      "orca\n",
      "roca\n",
      "5\n"
     ]
    }
   ],
   "source": [
    "USATO = '+'\n",
    "NONUSATO = ' '\n",
    "FILENAME = 'res/dizionario.txt'\n",
    "\n",
    "def anagramma(str1, str2):\n",
    "\tlen1 = len(str1)\n",
    "\tlen2 = len(str2)\n",
    "\n",
    "\tif len1 != len2:\n",
    "\t\treturn False\n",
    "\n",
    "\t#se siamo qua e' perche' sono lunghe uguale\n",
    "\tcarattere = []\n",
    "\tfor i in range(len1):\n",
    "\t\tcarattere.append(NONUSATO)\n",
    "\n",
    "\ti = 0\n",
    "\twhile i < len1:\n",
    "\t\ttrovato = False\n",
    "\t\tj = 0\n",
    "\t\twhile (j < len2) and (trovato == False):\n",
    "\t\t\tif (str1[i] == str2[j]) and (carattere[j] == NONUSATO):\n",
    "\t\t\t\tcarattere[j] = USATO\n",
    "\t\t\t\ttrovato = True\n",
    "\t\t\telse:\n",
    "\t\t\t\tj = j + 1\n",
    "\t\tif not trovato:\n",
    "\t\t\treturn False\n",
    "\t\t\n",
    "\t\ti = i + 1\n",
    "\n",
    "\treturn True\n",
    "\n",
    "\n",
    "strutente = raw_input('')\n",
    "fin = open(FILENAME, \"r\")\n",
    "numanag = 0\n",
    "for parola in fin:\n",
    "\tparola = parola.replace(\"\\n\",\"\")\n",
    "\tif anagramma(strutente, parola) == True:\n",
    "\t\tif strutente != parola:\n",
    "\t\t\tprint parola\n",
    "\t\t\tnumanag = numanag + 1\n",
    "\n",
    "fin.close()\n",
    "print numanag"
   ]
  },
  {
   "cell_type": "markdown",
   "metadata": {},
   "source": [
    "#### Esercizio 4 - Anagrammi interrotto\n",
    "Si realizzi il programma che acquisisce una stringa e cerca nel dizionario italiano (file res/dizionario.txt)\n",
    "tutti i vocaboli che ne sono un anagramma, visualizzandoli e al termine indicandone il numero totale.\n",
    "Usare un sottoprogramma per la verifica dell'anagramma. Introdurre controlli che aiutino a ridurre la\n",
    "scansione del file, smettendo di andare a controllare oltre una certa lettera dell'alfabeto (per esempio,\n",
    "se l'utente inserisce banana è inutile continuare a fare controlli con parole che iniziano con la m)."
   ]
  },
  {
   "cell_type": "code",
   "execution_count": 9,
   "metadata": {},
   "outputs": [
    {
     "name": "stdout",
     "output_type": "stream",
     "text": [
      "casa\n",
      "0\n"
     ]
    }
   ],
   "source": [
    "USATO = '+'\n",
    "NONUSATO = ' '\n",
    "FILENAME = 'res/dizionario.txt'\n",
    "\n",
    "def anagramma(str1, str2):\n",
    "\tlen1 = len(str1)\n",
    "\tlen2 = len(str2)\n",
    "\n",
    "\tif len1 != len2:\n",
    "\t\treturn False\n",
    "\n",
    "\t#se siamo qua e' perche' sono lunghe uguale\n",
    "\tcarattere = []\n",
    "\tfor i in range(len1):\n",
    "\t\tcarattere.append(NONUSATO)\n",
    "\n",
    "\ti = 0\n",
    "\twhile i < len1:\n",
    "\t\ttrovato = False\n",
    "\t\tj = 0\n",
    "\t\twhile (j < len2) and (trovato == False):\n",
    "\t\t\tif (str1[i] == str2[j]) and (carattere[j] == NONUSATO):\n",
    "\t\t\t\tcarattere[j] = USATO\n",
    "\t\t\t\ttrovato = True\n",
    "\t\t\telse:\n",
    "\t\t\t\tj = j + 1\n",
    "\t\tif not trovato:\n",
    "\t\t\treturn False\n",
    "\t\t\n",
    "\t\ti = i + 1\n",
    "\n",
    "\treturn True\n",
    "\n",
    "\n",
    "strutente = raw_input('')\n",
    "caratteri = list(strutente)\n",
    "caratteri.sort()\n",
    "ultimo = caratteri[-1]\n",
    "fin = open(FILENAME, \"r\")\n",
    "numanag = 0\n",
    "for parola in fin:\n",
    "\tparola = parola.replace(\"\\n\",\"\")\n",
    "\tif parola[0] > ultimo:\n",
    "\t\t#print \"interrompo: \" + parola\n",
    "\t\tbreak\n",
    "\tif anagramma(strutente, parola) == True:\n",
    "\t\tif strutente != parola:\n",
    "\t\t\tprint parola\n",
    "\t\t\tnumanag = numanag + 1\n",
    "\n",
    "fin.close()\n",
    "print numanag"
   ]
  },
  {
   "cell_type": "markdown",
   "metadata": {},
   "source": [
    "#### Esercizio 5 - Ripetizioni\n",
    "Scrivere un sottoprogramma che ricevuto in ingresso un intero n restituisce una lista contente n\n",
    "interi di valore n. Per esempio, se riceve in ingresso il valore 3, restituisce la lista [3, 3, 3].\n",
    "Scrivere poi un programma che acquisisce numero intero e crea una lista in cui ogni cifra compare\n",
    "tante volte quante il suo valore.\n",
    "Se l'utente inserisce 2041 il programma crea e visualizza la lista [2, 2, 4, 4, 4, 4, 1].\n",
    "Attenzione a non creare la lista [[2, 2], [4, 4, 4, 4], [1]]\n",
    "bensì la lista [2, 2, 4, 4, 4, 4, 1]"
   ]
  },
  {
   "cell_type": "code",
   "execution_count": 11,
   "metadata": {},
   "outputs": [
    {
     "name": "stdout",
     "output_type": "stream",
     "text": [
      "2231\n",
      "['2', '2', '3', '1']\n",
      "[2, 2, 2, 2, 3, 3, 3, 1]\n"
     ]
    }
   ],
   "source": [
    "def replica(el):\n",
    "\tlista = []\n",
    "\tfor i in range(0,el):\n",
    "\t\tlista.append(el)\n",
    "\treturn lista\n",
    "\n",
    "strnum = raw_input('')\n",
    "elem = list(strnum)\n",
    "print elem\n",
    "listarep = []\n",
    "for e in elem:\n",
    "\tif e != \"0\":\n",
    "\t\temult = replica(int(e))\n",
    "\t\tfor em in emult:\n",
    "\t\t\tlistarep.append(em)\n",
    "\n",
    "print listarep"
   ]
  },
  {
   "cell_type": "markdown",
   "metadata": {},
   "source": [
    "#### Esercizio 6 - Ripetizioni non ripetute\n",
    "Scrivere un programma che acquisisce numero intero e crea una lista in cui ogni cifra compare\n",
    "tante volte quante il suo valore. Nel caso in cui ci siano due cifre uguali adiacenti, la cifra viene\n",
    "rappresentata con le sue repliche solo una volta.\n",
    "Se l'utente inserisce 1224 il programma crea e visualizza la lista [1, 2, 2, 4, 4, 4, 4]."
   ]
  },
  {
   "cell_type": "code",
   "execution_count": 12,
   "metadata": {},
   "outputs": [
    {
     "name": "stdout",
     "output_type": "stream",
     "text": [
      "2231\n",
      "['2', '2', '3', '1']\n",
      "[2, 2, 3, 3, 3, 1]\n"
     ]
    }
   ],
   "source": [
    "def replica(el):\n",
    "\tlista = []\n",
    "\tfor i in range(0,el):\n",
    "\t\tlista.append(el)\n",
    "\treturn lista\n",
    "\n",
    "strnum = raw_input('')\n",
    "elem = list(strnum)\n",
    "print elem\n",
    "listarep = []\n",
    "last = \"\"\n",
    "for e in elem:\n",
    "\tif e != \"0\" and e != last:\n",
    "\t\temult = replica(int(e))\n",
    "\t\tfor em in emult:\n",
    "\t\t\tlistarep.append(em)\n",
    "\t\tlast = e\n",
    "\n",
    "print listarep"
   ]
  }
 ],
 "metadata": {
  "kernelspec": {
   "display_name": "Python 2",
   "language": "python",
   "name": "python2"
  },
  "language_info": {
   "codemirror_mode": {
    "name": "ipython",
    "version": 2
   },
   "file_extension": ".py",
   "mimetype": "text/x-python",
   "name": "python",
   "nbconvert_exporter": "python",
   "pygments_lexer": "ipython2",
   "version": "2.7.15"
  }
 },
 "nbformat": 4,
 "nbformat_minor": 2
}
