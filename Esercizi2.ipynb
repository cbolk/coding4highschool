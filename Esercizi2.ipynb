{
 "cells": [
  {
   "cell_type": "markdown",
   "metadata": {},
   "source": [
    "## Introduzione alla programmazione \n",
    "## Sessione esercitazione #2"
   ]
  },
  {
   "cell_type": "markdown",
   "metadata": {},
   "source": [
    "### nessuna istruzione di controllo"
   ]
  },
  {
   "cell_type": "markdown",
   "metadata": {},
   "source": [
    "#### Esercizio 1 - Max 15\n",
    "Scrivere un programma che acquisisce 15 interi. Una volta terminata l'acquisizione visualizza il valore\n",
    "massimo."
   ]
  },
  {
   "cell_type": "code",
   "execution_count": 2,
   "metadata": {},
   "outputs": [
    {
     "name": "stdout",
     "output_type": "stream",
     "text": [
      "1\n",
      "2\n",
      "3\n",
      "6\n",
      "5\n",
      "-7\n",
      "-9\n",
      "0\n",
      "32\n",
      "43\n",
      "21\n",
      "5\n",
      "6\n",
      "3\n",
      "2\n",
      "43\n"
     ]
    }
   ],
   "source": [
    "#quantita di dati\n",
    "N = 15\n",
    "\n",
    "val = int(input(''))\n",
    "maxval = val\n",
    "i = 1\n",
    "while i < N:\n",
    "\tval = int(input(''))\n",
    "\tif val > maxval:\n",
    "\t\tmaxval = val\n",
    "\ti = i + 1\n",
    "\n",
    "print maxval"
   ]
  },
  {
   "cell_type": "markdown",
   "metadata": {},
   "source": [
    "#### Esercizio 2 - MaxMinAvg15\n",
    "Scrivere un programma che acquisisce 15 interi. Una volta terminata l'acquisizione calcola e visualizza\n",
    "il valore massimo, minimo e media dei valori."
   ]
  },
  {
   "cell_type": "code",
   "execution_count": 3,
   "metadata": {},
   "outputs": [
    {
     "name": "stdout",
     "output_type": "stream",
     "text": [
      "1\n",
      "2\n",
      "-4\n",
      "-5\n",
      "7\n",
      "6\n",
      "7\n",
      "8\n",
      "9\n",
      "1\n",
      "0\n",
      "0\n",
      "0\n",
      "3\n",
      "-5\n",
      "9 -5 2.0\n"
     ]
    }
   ],
   "source": [
    "#quantita di dati\n",
    "N = 15\n",
    "\n",
    "val = int(input(''))\n",
    "maxval = val\n",
    "minval = val\n",
    "totval = val\n",
    "for i in range(1, N):\n",
    "\tval = int(input(''))\n",
    "\tif val > maxval:\n",
    "\t\tmaxval = val\n",
    "\telif val < minval:\n",
    "\t\tminval = val\n",
    "\ttotval = totval + val\n",
    "\n",
    "avgval = float(totval) / N\n",
    "\n",
    "print maxval, minval, avgval"
   ]
  },
  {
   "cell_type": "markdown",
   "metadata": {},
   "source": [
    "Variante: la sequenza non ha una lunghezza nota a priori e ci si interrompe quando si acquisisce il valore 19."
   ]
  },
  {
   "cell_type": "code",
   "execution_count": 4,
   "metadata": {},
   "outputs": [
    {
     "name": "stdout",
     "output_type": "stream",
     "text": [
      "-4\n",
      "0\n",
      "3\n",
      "-6\n",
      "8\n",
      "19\n",
      "8 -6 0.2\n"
     ]
    }
   ],
   "source": [
    "#quantita di dati\n",
    "STOP = 19\n",
    "\n",
    "val = int(input(''))\n",
    "maxval = val\n",
    "minval = val\n",
    "totval = 0\n",
    "cont = 0\n",
    "while val != STOP:\n",
    "\tif val > maxval:\n",
    "\t\tmaxval = val\n",
    "\telif val < minval:\n",
    "\t\tminval = val\n",
    "\ttotval = totval + val\n",
    "\tcont = cont + 1\n",
    "\tval = int(input(''))\n",
    "if cont > 0:\n",
    "\tavgval = float(totval) / cont\n",
    "print maxval, minval, avgval"
   ]
  },
  {
   "cell_type": "markdown",
   "metadata": {},
   "source": [
    "#### Esercizio 3 - Numero di cifre\n",
    "Si realizzi il programma che acquisito un valore che sia strettamente positivo (senz'altro è così, non\n",
    "servono verifiche) calcola e visualizza il numero di cifre di cui è composto."
   ]
  },
  {
   "cell_type": "code",
   "execution_count": 5,
   "metadata": {},
   "outputs": [
    {
     "name": "stdout",
     "output_type": "stream",
     "text": [
      "3456423\n",
      "7\n"
     ]
    }
   ],
   "source": [
    "BASE = 10\n",
    "\n",
    "num = int(raw_input(\"\"))\n",
    "numcifre = 0\n",
    "while num > 0:\n",
    "    num = num / BASE\n",
    "    numcifre = numcifre + 1\n",
    "if numcifre == 0:\n",
    "\tnumcifre = 1\n",
    "print numcifre"
   ]
  },
  {
   "cell_type": "markdown",
   "metadata": {},
   "source": [
    "Versione alternativa"
   ]
  },
  {
   "cell_type": "code",
   "execution_count": 6,
   "metadata": {},
   "outputs": [
    {
     "name": "stdout",
     "output_type": "stream",
     "text": [
      "3456423\n",
      "7\n"
     ]
    }
   ],
   "source": [
    "BASE = 10\n",
    "\n",
    "val = int(raw_input(\"\"))\n",
    "if val < 0:\n",
    "\tnum = -val\n",
    "else:\n",
    "\tnum = val\n",
    "numcifre = 0\n",
    "while num > 0:\n",
    "    num = num / BASE\n",
    "    numcifre = numcifre + 1\n",
    "if numcifre == 0:\n",
    "\tnumcifre = 1\n",
    "print numcifre"
   ]
  },
  {
   "cell_type": "markdown",
   "metadata": {},
   "source": [
    "#### Esercizio 4 - Padding\n",
    "Si vuole rappresentare a video un valore naturale num utilizzando un numero a scelta di cifre ``k``\n",
    "inserendo ``0`` nelle posizioni più significative, fino a raggiungere la dimensione desiderata. Per esempio,\n",
    "volendo rappresentare ``842`` su ``5`` cifre, si ottiene ``00842``.\n",
    "Scrivere un programma che acquisisce due valori interi entrambi strettamente positivi (e finché non è così lo richiede) ``num`` e ``k``, quindi rappresenta ``num`` su ``k`` cifre. Se ``k`` è minore del numero di cifre presenti in ``num``, il programma visualizza il valore ``num`` come è."
   ]
  },
  {
   "cell_type": "code",
   "execution_count": 33,
   "metadata": {},
   "outputs": [
    {
     "name": "stdout",
     "output_type": "stream",
     "text": [
      "2016\n",
      "1\n"
     ]
    }
   ],
   "source": [
    "BASE = 10\n",
    "PADDING = '0'\n",
    "\n",
    "num = int(raw_input(\"Numero intero: \"))\n",
    "ncifre = int(raw_input(\"Numero di cifre: \"))\n",
    "\n",
    "val = num\n",
    "i = 0\n",
    "while val > 0:\n",
    "\tval = val / BASE\n",
    "\ti = i + 1\n",
    "\n",
    "strpad = ''\n",
    "while ncifre > i:\n",
    "\tstrpad = strpad + PADDING\n",
    "\tncifre = ncifre - 1\n",
    "\n",
    "strpad = strpad + str(num)\n",
    "print strpad"
   ]
  },
  {
   "cell_type": "markdown",
   "metadata": {},
   "source": [
    "#### Esercizio 5 - Cifra top\n",
    "Scrivere un programma che acquisito un valore intero senz'altro strettamente positivo visualizza la\n",
    "cifra che compare più frequentemente. Nel caso in cui ci siano più cifre che compaiono con la stessa\n",
    "frequenza massima, visualizza quella con valore minore. Per esempio, se il programma acquisisce il\n",
    "valore 2341272 il programma visualizza 2; se acquisisce 32102041 il programma visualizza 0."
   ]
  },
  {
   "cell_type": "code",
   "execution_count": 38,
   "metadata": {},
   "outputs": [
    {
     "name": "stdout",
     "output_type": "stream",
     "text": [
      "3\n",
      "4\n",
      "5\n",
      "1\n"
     ]
    }
   ],
   "source": [
    "BASE = 10\n",
    "\n",
    "num = int(raw_input(\"\"))\n",
    "contacifre = []\n",
    "for i in range(BASE):\n",
    "    contacifre.append(0)\n",
    "# contacifre = [0 for i in range(BASE)]\n",
    "#print contacifre\n",
    "while num > 0:\n",
    "    cifra = num % BASE\n",
    "    contacifre[cifra] = contacifre[cifra] + 1\n",
    "    num = num / BASE\n",
    "print contacifre\n",
    "#ho i dati nell'array ... cerco il massimo\n",
    "maxi = 0\n",
    "for i in range(1,BASE):\n",
    "    if contacifre[i] > contacifre[maxi]:\n",
    "        maxi = i\n",
    "print maxi\n"
   ]
  },
  {
   "cell_type": "markdown",
   "metadata": {},
   "source": [
    "#### Esercizio 6 - Carattere top\n",
    "Scrivere un programma che acquisisce una frase e calcola e visualizza il carattere che compare più\n",
    "frequentemente. La frase è scritta utilizzando solo caratteri minuscoli."
   ]
  },
  {
   "cell_type": "code",
   "execution_count": null,
   "metadata": {},
   "outputs": [],
   "source": [
    "LENAL = 26\n",
    "MINCAR = 'a'\n",
    "MAXCAR = 'z'\n",
    "\n",
    "frase = raw_input('')\n",
    "contacaratteri = []\n",
    "ncar = len(frase)\n",
    "for i in range(LENAL):\n",
    "    contacaratteri.append(0)\n",
    "\n",
    "for i in range(0,ncar):\n",
    "    if frase[i] >= MINCAR and frase[i] <= MAXCAR:\n",
    "        poscar = ord(frase[i]) - ord(MINCAR)\n",
    "        contacaratteri[poscar] = contacaratteri[poscar] + 1\n",
    "    \n",
    "maxi = 0\n",
    "for i in range(1,LENAL):\n",
    "    if contacaratteri[i] > contacaratteri[maxi]:\n",
    "        maxi = i\n",
    "print chr(maxi + ord(MINCAR))\n"
   ]
  }
 ],
 "metadata": {
  "kernelspec": {
   "display_name": "Python 2",
   "language": "python",
   "name": "python2"
  },
  "language_info": {
   "codemirror_mode": {
    "name": "ipython",
    "version": 2
   },
   "file_extension": ".py",
   "mimetype": "text/x-python",
   "name": "python",
   "nbconvert_exporter": "python",
   "pygments_lexer": "ipython2",
   "version": "2.7.15"
  }
 },
 "nbformat": 4,
 "nbformat_minor": 2
}
