{
 "cells": [
  {
   "cell_type": "markdown",
   "metadata": {},
   "source": [
    "#Il quesito della Susi\n",
    "![Quesito della Susi](risorse/susi.png)"
   ]
  },
  {
   "cell_type": "code",
   "execution_count": 4,
   "metadata": {},
   "outputs": [
    {
     "name": "stdout",
     "output_type": "stream",
     "text": [
      "933311\n",
      "66689\n"
     ]
    }
   ],
   "source": [
    "#combinazione ABCDEF\n",
    "\n",
    "#combinazione di cifre più elevata possibile\n",
    "NUMMAX = 999999\n",
    "#ad ogni iterazione diminuiamo di 1\n",
    "#poichè i vincoli indicano che le cifre sono una più alte verso le cifre più significative,\n",
    "#il numero sarà maggiore di 500000, quindi meglio partire dall'alto\n",
    "\n",
    "#valori per accedere alle cifre intermedie\n",
    "SPLIT3 = 1000\n",
    "SPLIT2 = 100\n",
    "\n",
    "num = NUMMAX\n",
    "trovato = False\n",
    "iterazioni = 0\n",
    "\n",
    "while num > 0 and not trovato:\n",
    "\t#vincolo: ABC = 3 * DEF\n",
    "\tnDEF = num % SPLIT3\n",
    "\tnABC = (num - nDEF) / SPLIT3\n",
    "\tif nABC == 3 * nDEF:\n",
    "\t\t#vincolo: CD = 3 * FG\n",
    "\t\tnEF = num % SPLIT2\n",
    "\t\tval = num / SPLIT2\n",
    "\t\tnCD = val % SPLIT2\n",
    "\t\tif nCD == 3 * nEF:\n",
    "\t\t\ttrovato = True\n",
    "\t\telse:\n",
    "\t\t\tnum = num - 1\n",
    "\telse:\n",
    "\t\tnum = num - 1\n",
    "\titerazioni = iterazioni + 1\n",
    "\n",
    "if trovato:\n",
    "\tprint num\n",
    "else:\n",
    "    #non ci aspettiamo di arrivare qua\n",
    "\tprint \"Errore: non esiste un numero che rispetti i vincoli!\"\n",
    "print iterazioni"
   ]
  },
  {
   "cell_type": "markdown",
   "metadata": {},
   "source": [
    "Abbiamo contato il numero di combinazioni che sono state prese in considerazione prima di trovare quella cercata. \n",
    "Proviamo a vedere cosa sarebbe successo (in termini di numero di configurazioni che valutiamo) se fossimo partiti da 000000 per arrivare al numero cercato.\n",
    "(Naturalmente conoscendo la soluzione non e' necessario fare la simulazione, basta fare i conti ... ma cosi' abbiamo anche il codice)"
   ]
  },
  {
   "cell_type": "code",
   "execution_count": 5,
   "metadata": {},
   "outputs": [
    {
     "name": "stdout",
     "output_type": "stream",
     "text": [
      "933311\n",
      "932312\n"
     ]
    }
   ],
   "source": [
    "#combinazione di cifre più elevata possibile\n",
    "NUMMAX = 999999\n",
    "\n",
    "SPLIT3 = 1000\n",
    "SPLIT2 = 100\n",
    "\n",
    "num = 1000\n",
    "trovato = False\n",
    "iterazioni = 0\n",
    "while num <= NUMMAX and not trovato:\n",
    "\t#vincolo: ABC = 3 * DEF\n",
    "\tnDEF = num % SPLIT3\n",
    "\tnABC = (num - nDEF) / SPLIT3\n",
    "\tif nABC == 3 * nDEF:\n",
    "\t\t#vincolo: CD = 3 * FG\n",
    "\t\tnEF = num % SPLIT2\n",
    "\t\tval = num / SPLIT2\n",
    "\t\tnCD = val % SPLIT2\n",
    "\t\tif nCD == 3 * nEF:\n",
    "\t\t\ttrovato = True\n",
    "\t\telse:\n",
    "\t\t\tnum = num + 1\n",
    "\telse:\n",
    "\t\tnum = num + 1\n",
    "\titerazioni = iterazioni + 1\n",
    "\n",
    "if trovato:\n",
    "\tprint num\n",
    "else:\n",
    "\tprint \"Errore: non esiste un numero che rispetti i vincoli!\"\n",
    "print iterazioni\n"
   ]
  },
  {
   "cell_type": "markdown",
   "metadata": {},
   "source": [
    "932312 analisi rispetto a 66689"
   ]
  },
  {
   "cell_type": "markdown",
   "metadata": {},
   "source": [
    "Entrambi sono metodi che si basano sul provare tutto (tanto la fatica la fa il calcolatore), metodi di \"forza bruta\", invece di fare una ricerca più ... mirata. Ma anche in questi casi si può cercare di fare scelte più furbe, come quella di partire dal valore più alto."
   ]
  },
  {
   "cell_type": "markdown",
   "metadata": {},
   "source": [
    "Proviamo a usare le informazioni sui vincoli per ridurre il numero di analisi fatte."
   ]
  },
  {
   "cell_type": "markdown",
   "metadata": {},
   "source": [
    "Per esempio, si può generare ad ogni iterazione il numero costituito dalle 3 cifre più a destra (DEF). Calcolare le prime tre in base al vincolo (3 volte il numero DEF, ABC = 3 * DEF), quindi verificare se il secondo vincolo è rispettato (3 volte il numero EF, CD = 3 * EF)."
   ]
  },
  {
   "cell_type": "code",
   "execution_count": 10,
   "metadata": {},
   "outputs": [
    {
     "name": "stdout",
     "output_type": "stream",
     "text": [
      "933311\n",
      "311\n"
     ]
    }
   ],
   "source": [
    "#combinazione di partenza sulle 2 cifre meno significative\n",
    "#ABCDEF\n",
    "DEFMAX = 999\n",
    "\n",
    "SPLIT2 = 100\n",
    "BASE = 10\n",
    "\n",
    "nDEF = 1\n",
    "trovato = False\n",
    "iterazioni = 0\n",
    "while nDEF < DEFMAX and not trovato:\n",
    "    #vincolo ABC = 3 * DEF\n",
    "    nABC = 3 * nDEF\n",
    "    #vincolo CD = 3 * EF\n",
    "    nEF = nDEF % SPLIT2\n",
    "    nCD = (nABC % BASE) * BASE + nDEF / SPLIT2 \n",
    "    #verifico il vincolo    \n",
    "    if nCD == 3 * nEF:\n",
    "        trovato = True\n",
    "    else:\n",
    "        nDEF = nDEF + 1\n",
    "    iterazioni = iterazioni + 1\n",
    "        \n",
    "if trovato:\n",
    "\tprint num\n",
    "else:\n",
    "\tprint \"Errore: non esiste un numero che rispetti i vincoli!\"\n",
    "print iterazioni"
   ]
  },
  {
   "cell_type": "markdown",
   "metadata": {},
   "source": [
    "Si riducono molto le iterazioni, che nel caso pessimo saranno 999 (DEFMAX).\n",
    "Utilizzando lo stesso approccio, allora, potremmo lavorare prima sull'altro vincolo che coinvolge solo due cifre, quelle più a destra, visto che essendo il numero di due cifre, al più faremo 99 iterazioni.\n",
    "Partiamo quindi, con il numero costituito dalle 2 cifre più a destra (EF) e calcoliamo la terza e quarta (CD) con il vincolo (3 volte EF, CD = 3 * EF). A questo punto calcoliamo le tre cifre più significative (ABC) con l'altro vincolo (3 volte DEF, ABC = 3 * DEF) e verifichiamo che la cifra C sia la stessa in entrambi i casi."
   ]
  },
  {
   "cell_type": "code",
   "execution_count": 11,
   "metadata": {},
   "outputs": [
    {
     "name": "stdout",
     "output_type": "stream",
     "text": [
      "933311\n",
      "11\n"
     ]
    }
   ],
   "source": [
    "#combinazione di partenza sulle 2 cifre meno significative\n",
    "#ABCDEF\n",
    "EFMAX = 99\n",
    "\n",
    "SPLIT2 = 100\n",
    "BASE = 10\n",
    "\n",
    "nEF = 1\n",
    "trovato = False\n",
    "iterazioni = 0\n",
    "while nEF < EFMAX and not trovato:\n",
    "    #vincolo CD = 3 * EF\n",
    "    nCD = 3 * nEF\n",
    "    #DEF = cifra meno significativa di CD * 100 + EF\n",
    "    nDEF = (nCD % BASE) * SPLIT2 + nEF\n",
    "    #vincolo ABC = 3 * DEF\n",
    "    nABC = 3 * nDEF\n",
    "\n",
    "    #C deve essere uguale alla cifra più significativa di CD\n",
    "    if nCD / BASE == nABC % BASE:\n",
    "        trovato = True\n",
    "    else:\n",
    "        nEF = nEF + 1\n",
    "    iterazioni = iterazioni + 1\n",
    "        \n",
    "if trovato:\n",
    "\tprint num\n",
    "else:\n",
    "\tprint \"Errore: non esiste un numero che rispetti i vincoli!\"\n",
    "print iterazioni\n",
    "   "
   ]
  }
 ],
 "metadata": {
  "kernelspec": {
   "display_name": "Python 2",
   "language": "python",
   "name": "python2"
  },
  "language_info": {
   "codemirror_mode": {
    "name": "ipython",
    "version": 2
   },
   "file_extension": ".py",
   "mimetype": "text/x-python",
   "name": "python",
   "nbconvert_exporter": "python",
   "pygments_lexer": "ipython2",
   "version": "2.7.15"
  }
 },
 "nbformat": 4,
 "nbformat_minor": 2
}
