{
 "cells": [
  {
   "cell_type": "markdown",
   "metadata": {},
   "source": [
    "# Introduzione alla programmazione \n",
    "## Sessione esercitazione #1"
   ]
  },
  {
   "cell_type": "markdown",
   "metadata": {},
   "source": [
    "### nessuna istruzione di controllo"
   ]
  },
  {
   "cell_type": "markdown",
   "metadata": {},
   "source": [
    "#### Esercizio 1 - Tempo\n",
    "Si realizzi il programma che acquisito un valore che rappresenta il tempo espresso in secondi, calcoli e visualizzi\n",
    "lo stesso tempo in ore, minuti e secondi."
   ]
  },
  {
   "cell_type": "code",
   "execution_count": 5,
   "metadata": {},
   "outputs": [
    {
     "name": "stdout",
     "output_type": "stream",
     "text": [
      "Inserisci la quantita' di tempo espressa in secondi: 54392\n",
      "15 ore 6 minuti 32 secondi\n"
     ]
    }
   ],
   "source": [
    "MIN_IN_ORA = 60\n",
    "SEC_IN_MIN = 60\n",
    "SEC_IN_ORA = SEC_IN_MIN * MIN_IN_ORA\n",
    "\n",
    "## acquisizione\n",
    "tempos = raw_input(\"Inserisci la quantita\\' di tempo espressa in secondi: \")\n",
    "tempo = int(tempos)\n",
    "\n",
    "## elaborazione\n",
    "ore = tempo / SEC_IN_ORA\n",
    "# tutto cio' che non sono ore ... tempo rimanente\n",
    "tempo = tempo % SEC_IN_ORA\n",
    "minuti = tempo / SEC_IN_MIN \n",
    "secondi = tempo % SEC_IN_MIN\n",
    "\n",
    "## visualizzazione\n",
    "print str(ore) + \" ore \" + str(minuti) + \" minuti \" + str(secondi) + \" secondi\""
   ]
  },
  {
   "cell_type": "markdown",
   "metadata": {},
   "source": [
    "Versione alternativa"
   ]
  },
  {
   "cell_type": "code",
   "execution_count": 7,
   "metadata": {},
   "outputs": [
    {
     "name": "stdout",
     "output_type": "stream",
     "text": [
      "Inserisci la quantita' di tempo espressa in secondi: 54392\n",
      "15 ore 6 minuti 32 secondi\n"
     ]
    }
   ],
   "source": [
    "MIN_IN_ORA = 60\n",
    "SEC_IN_MIN = 60\n",
    "SEC_IN_ORA = SEC_IN_MIN * MIN_IN_ORA\n",
    "\n",
    "## acquisizione\n",
    "tempos = raw_input(\"Inserisci la quantita\\' di tempo espressa in secondi: \")\n",
    "tempo = int(tempos)\n",
    "\n",
    "## elaborazione\n",
    "ore = tempo / SEC_IN_ORA\n",
    "minuti = (tempo % SEC_IN_ORA) / SEC_IN_MIN\n",
    "secondi = (tempo % SEC_IN_ORA) % SEC_IN_MIN\n",
    "\n",
    "## visualizzazione\n",
    "print str(ore) + \" ore \" + str(minuti) + \" minuti \" + str(secondi) + \" secondi\""
   ]
  },
  {
   "cell_type": "markdown",
   "metadata": {},
   "source": [
    "#### Esercizio 2 - Il prezzo della benzina\n",
    "Scrivere un programma che acquisisce il cambio dollaro-euro, il prezzo della benzina espresso in\n",
    "dollari al gallone e calcola e visualizza il prezzo della benzina espresso in euro al litro. Ogni gallone\n",
    "corrisponde a 3.785 litri."
   ]
  },
  {
   "cell_type": "code",
   "execution_count": 10,
   "metadata": {},
   "outputs": [
    {
     "name": "stdout",
     "output_type": "stream",
     "text": [
      "Inserisci il prezzo della benzina in US$ al gallone: 2.61\n",
      "Inserisci il cambio odierno euro-dollaro (1 euro = xxx US$): 0.97\n",
      "US_GAL: 2.61 = 0.653341935484 EUR_LT\n"
     ]
    }
   ],
   "source": [
    "LT_IN_GALL = 3.875\n",
    "\n",
    "## acquisizione\n",
    "prezzoUSGAL = float(raw_input(\"Inserisci il prezzo della benzina in US$ al gallone: \"))\n",
    "cambioEUROUS = float(raw_input(\"Inserisci il cambio odierno euro-dollaro (1 euro = xxx US$): \"))\n",
    "\n",
    "## elaborazione\n",
    "prezzoEURLT = prezzoUSGAL * cambioEUROUS / LT_IN_GALL\n",
    "\n",
    "## visualizzazione\n",
    "print \"US_GAL: \" + str(prezzoUSGAL) + \" = \" + str(prezzoEURLT) + \" EUR_LT\""
   ]
  },
  {
   "cell_type": "markdown",
   "metadata": {},
   "source": [
    "Provare con:\n",
    "prezzo della benzina stato di New York: 3.65 US$/GAL\n",
    "prezzo della benzina stato del Texas: 2.60 US$/GAL\n",
    "Cambio: 0.88"
   ]
  },
  {
   "cell_type": "markdown",
   "metadata": {},
   "source": [
    "### costrutto di selezione: if"
   ]
  },
  {
   "cell_type": "markdown",
   "metadata": {},
   "source": [
    "#### Esercizio 3 - Arrotondamenti per le imposte\n",
    "Scrivere un programma che acquisisce un numero reale. Il programma calcola e visualizza il valore intero arrotondato nel seguente modo: se la parte decimale è strettamente maggiore di 0.50 arrotonda all'intero superiore, altrimenti a quello inferiore (come utilizzato nel calcolo delle imposte)"
   ]
  },
  {
   "cell_type": "code",
   "execution_count": 13,
   "metadata": {},
   "outputs": [
    {
     "name": "stdout",
     "output_type": "stream",
     "text": [
      "Inserisci un numero reale positivo: 3.500001\n",
      "4\n"
     ]
    }
   ],
   "source": [
    "valf = float(raw_input(\"Inserisci un numero reale positivo: \"))\n",
    "# intero\n",
    "vali = int(valf)\n",
    "# parte reale\n",
    "diff = valf - vali\n",
    "if diff > 0.5:\n",
    "    vali = vali + 1\n",
    "print str(vali)"
   ]
  },
  {
   "cell_type": "markdown",
   "metadata": {},
   "source": [
    "Ci sono sottoprogrammi che effettuano arrotondamenti all'intero inferiore e superiore: round e floor"
   ]
  },
  {
   "cell_type": "code",
   "execution_count": 16,
   "metadata": {},
   "outputs": [
    {
     "name": "stdout",
     "output_type": "stream",
     "text": [
      "Inserisci un numero reale positivo: 3.54\n",
      "3.54>> inf: 3.0 sup: 4.0 oppure 4.0\n"
     ]
    }
   ],
   "source": [
    "import math\n",
    "\n",
    "valf = float(raw_input(\"Inserisci un numero reale positivo: \"))\n",
    "# arrotondamenti\n",
    "valinf = math.floor(valf)\n",
    "valcei = math.ceil(valf)\n",
    "valsup = round(valf, 0)  #arrotonda a 0 cifre decimali\n",
    "print str(valf) + \">> inf: \" + str(valinf) + \" sup: \" + str(valcei) + \" oppure \" + str(valsup)"
   ]
  },
  {
   "cell_type": "markdown",
   "metadata": {},
   "source": [
    "Cosa succede quando il numero è negativo???"
   ]
  },
  {
   "cell_type": "code",
   "execution_count": 17,
   "metadata": {},
   "outputs": [
    {
     "name": "stdout",
     "output_type": "stream",
     "text": [
      "Inserisci un numero reale positivo: -3.45\n",
      "-3.45>> inf: -4.0 sup: -3.0 oppure -3.0\n"
     ]
    }
   ],
   "source": [
    "import math\n",
    "\n",
    "valf = float(raw_input(\"Inserisci un numero reale positivo: \"))\n",
    "# arrotondamenti\n",
    "valinf = math.floor(valf)\n",
    "valcei = math.ceil(valf)\n",
    "valsup = round(valf, 0)  #arrotonda a 0 cifre decimali\n",
    "print str(valf) + \">> inf: \" + str(valinf) + \" sup: \" + str(valcei) + \" oppure \" + str(valsup)"
   ]
  },
  {
   "cell_type": "markdown",
   "metadata": {},
   "source": [
    "Come modificare il programma di arrotondamento fiscale per valori negativi?"
   ]
  },
  {
   "cell_type": "code",
   "execution_count": 28,
   "metadata": {},
   "outputs": [
    {
     "name": "stdout",
     "output_type": "stream",
     "text": [
      "Inserisci un numero reale positivo: -3.65\n",
      "-4\n"
     ]
    }
   ],
   "source": [
    "valf = float(raw_input(\"Inserisci un numero reale positivo: \"))\n",
    "# intero\n",
    "vali = int(valf)\n",
    "# parte reale\n",
    "diff = valf - vali\n",
    "if vali > 0:\n",
    "    if diff > 0.5:\n",
    "        vali = vali + 1\n",
    "else:\n",
    "    if diff < -0.5:\n",
    "        vali = vali - 1\n",
    "    \n",
    "print str(vali)"
   ]
  },
  {
   "cell_type": "markdown",
   "metadata": {},
   "source": [
    "#### Esercizio 4 - Anno bisestile\n",
    "Scrivere un programma che acquisisce un intero che rappresenta un anno e visualizza 1 se si tratta di un anno bisestile, 0 altrimenti"
   ]
  },
  {
   "cell_type": "code",
   "execution_count": 33,
   "metadata": {},
   "outputs": [
    {
     "name": "stdout",
     "output_type": "stream",
     "text": [
      "2016\n",
      "1\n"
     ]
    }
   ],
   "source": [
    "anno = int(raw_input(\"\"))\n",
    "\n",
    "if ((anno % 400 ==0) or (anno % 4 == 0) and (anno % 100 != 0)):\n",
    "    ris = 1\n",
    "else:\n",
    "    ris = 0\n",
    "\n",
    "print ris"
   ]
  },
  {
   "cell_type": "markdown",
   "metadata": {},
   "source": [
    "#### Esercizio 5 - Terna pitagorica\n",
    "Scrivere un programma che acquisiti tre valori interi visualizzi 1 se costituiscono una terna pitagorica, 0 altrimenti."
   ]
  },
  {
   "cell_type": "code",
   "execution_count": 38,
   "metadata": {},
   "outputs": [
    {
     "name": "stdout",
     "output_type": "stream",
     "text": [
      "3\n",
      "4\n",
      "5\n",
      "1\n"
     ]
    }
   ],
   "source": [
    "n1 = int(raw_input(\"\"))\n",
    "n2 = int(raw_input(\"\"))\n",
    "n3 = int(raw_input(\"\"))\n",
    "\n",
    "if (n1 * n1 + n2 * n2 == n3 * n3 or n1 * n1 + n3 * n3 == n2 * n2 or n3 * n3 + n2 * n2 == n1 * n1):\n",
    "    ris = 1\n",
    "else:\n",
    "    ris = 0\n",
    "\n",
    "print ris"
   ]
  }
 ],
 "metadata": {
  "kernelspec": {
   "display_name": "Python 2",
   "language": "python",
   "name": "python2"
  },
  "language_info": {
   "codemirror_mode": {
    "name": "ipython",
    "version": 2
   },
   "file_extension": ".py",
   "mimetype": "text/x-python",
   "name": "python",
   "nbconvert_exporter": "python",
   "pygments_lexer": "ipython2",
   "version": "2.7.15"
  }
 },
 "nbformat": 4,
 "nbformat_minor": 2
}
