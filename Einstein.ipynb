{
 "cells": [
  {
   "cell_type": "markdown",
   "metadata": {},
   "source": [
    "Si dice che Einstein si divertisse molto a stupire gli amici con il gioco qui riportato.\n",
    "\n",
    "Scrivete il numero 1089 su un pezzo di carta, piegatelo e datelo ad un amico che lo metta da parte. Cio' che avete scritto non deve essere letto fino a che non termina il gioco.\n",
    "\n",
    "A questo punto chiedere ad una persona di scrivere 3 cifre qualsiasi (ABC), specificando che la prima e l'ultima cifra devono differire di almeno due (|A-C| >=2). Per fare atmosfera, giratevi e chiudete gli occhi.\n",
    "Una volta scritto il numero di tre cifre, chiedete all'amico di scrivere il numero che si ottiene invertendo l'ordine delle cifre (CBA).\n",
    "A questo punto fate sottrarre dal numero piu' grande quello piu' piccolo: XYZ = |ABC - CBA| e fate anche calcolare il numero che si ottiene invertendo le cifre del numero risultante: ZYX.\n",
    "Infine, fate sommare questi ultimi due numeri: XYZ + ZYX e constatate che il risultato e' 1089.\n",
    "\n",
    "Fate estrarre il foglio tenuto da parte fino a questo momento: 1089!\n",
    "\n",
    "Proviamo allora a realizzare un programma che fa i seguenti passi:\n",
    "1. Chiede all'utente di inserire un numero di 3 cifre, specificando il vincolo tra la prima e l'ultima cifra (ipotizziamo che l'utente non si sbagli :) )\n",
    "2. Acquisisce il valore\n",
    "3. Visualizza il numero inserito e il numero con le cifre in ordine inverso\n",
    "4. Visualizza la differenza tra i due valori (deve essere un numero positivo)\n",
    "5. Visualizza il numero con le cifre in ordine inverso\n",
    "6. Visualizza il risultato della somma tra questi due valori (dovrebbe essere 1089 per qualsiasi numero di 3 cifre che rispetta il vincolo tra la prima e l'ultima cifra) \n",
    "\n",
    "Note:\n",
    "La divisione tra due numeri interi (//) produce sempre un valore intero: 6//3 -> 2, 6//4 -> 1, 4//6 -> 0\n",
    "C'è un altro operatore che dati due valori interi calcola il resto della divisione tra i valori, ossia quel valore che sommato al risultato della divisione, dà il dividendo.\n",
    "6 % 3 -> 0, 6 % 4 -> 2 e 4 % 6 -> 4\n",
    "\n",
    "Proviamo:"
   ]
  },
  {
   "cell_type": "code",
   "execution_count": 1,
   "metadata": {},
   "outputs": [
    {
     "data": {
      "text/plain": [
       "1"
      ]
     },
     "execution_count": 1,
     "metadata": {},
     "output_type": "execute_result"
    }
   ],
   "source": [
    "6 // 4"
   ]
  },
  {
   "cell_type": "code",
   "execution_count": 18,
   "metadata": {},
   "outputs": [
    {
     "data": {
      "text/plain": [
       "0"
      ]
     },
     "execution_count": 18,
     "metadata": {},
     "output_type": "execute_result"
    }
   ],
   "source": [
    "4 // 6"
   ]
  },
  {
   "cell_type": "code",
   "execution_count": 3,
   "metadata": {},
   "outputs": [
    {
     "data": {
      "text/plain": [
       "2"
      ]
     },
     "execution_count": 3,
     "metadata": {},
     "output_type": "execute_result"
    }
   ],
   "source": [
    "6 % 4"
   ]
  },
  {
   "cell_type": "code",
   "execution_count": 4,
   "metadata": {},
   "outputs": [
    {
     "data": {
      "text/plain": [
       "4"
      ]
     },
     "execution_count": 4,
     "metadata": {},
     "output_type": "execute_result"
    }
   ],
   "source": [
    "4 % 6"
   ]
  },
  {
   "cell_type": "markdown",
   "metadata": {},
   "source": [
    "Cosa succede se uno dei due operandi e' negativo?"
   ]
  },
  {
   "cell_type": "markdown",
   "metadata": {},
   "source": [
    "-4 // 6"
   ]
  },
  {
   "cell_type": "code",
   "execution_count": 20,
   "metadata": {},
   "outputs": [
    {
     "data": {
      "text/plain": [
       "-2"
      ]
     },
     "execution_count": 20,
     "metadata": {},
     "output_type": "execute_result"
    }
   ],
   "source": [
    "-6 // 4"
   ]
  },
  {
   "cell_type": "markdown",
   "metadata": {},
   "source": [
    "In primo luogo: quale ci aspettiamo che sia il risultato della divisione??\n",
    "Quale e' il risultato di\n",
    "-6 // 4?"
   ]
  },
  {
   "cell_type": "code",
   "execution_count": 21,
   "metadata": {},
   "outputs": [
    {
     "data": {
      "text/plain": [
       "-2"
      ]
     },
     "execution_count": 21,
     "metadata": {},
     "output_type": "execute_result"
    }
   ],
   "source": [
    "-6//4"
   ]
  },
  {
   "cell_type": "markdown",
   "metadata": {},
   "source": [
    "Che e' ben diverso da\n",
    "-(6/4)"
   ]
  },
  {
   "cell_type": "code",
   "execution_count": 22,
   "metadata": {},
   "outputs": [
    {
     "data": {
      "text/plain": [
       "-1"
      ]
     },
     "execution_count": 22,
     "metadata": {},
     "output_type": "execute_result"
    }
   ],
   "source": [
    "-(6//4)"
   ]
  },
  {
   "cell_type": "code",
   "execution_count": 23,
   "metadata": {},
   "outputs": [
    {
     "data": {
      "text/plain": [
       "-1"
      ]
     },
     "execution_count": 23,
     "metadata": {},
     "output_type": "execute_result"
    }
   ],
   "source": [
    "-4//6"
   ]
  },
  {
   "cell_type": "markdown",
   "metadata": {},
   "source": [
    "E ci aspettiamo che non sia importante quale dei due operandi e' negativo"
   ]
  },
  {
   "cell_type": "code",
   "execution_count": 24,
   "metadata": {},
   "outputs": [
    {
     "data": {
      "text/plain": [
       "-1"
      ]
     },
     "execution_count": 24,
     "metadata": {},
     "output_type": "execute_result"
    }
   ],
   "source": [
    "4//-6"
   ]
  },
  {
   "cell_type": "markdown",
   "metadata": {},
   "source": [
    "Se gli operandi sono entrambi negativi:"
   ]
  },
  {
   "cell_type": "code",
   "execution_count": 25,
   "metadata": {},
   "outputs": [
    {
     "data": {
      "text/plain": [
       "0"
      ]
     },
     "execution_count": 25,
     "metadata": {},
     "output_type": "execute_result"
    }
   ],
   "source": [
    "-4//-6"
   ]
  },
  {
   "cell_type": "code",
   "execution_count": 26,
   "metadata": {},
   "outputs": [
    {
     "data": {
      "text/plain": [
       "1"
      ]
     },
     "execution_count": 26,
     "metadata": {},
     "output_type": "execute_result"
    }
   ],
   "source": [
    "-6//-4"
   ]
  },
  {
   "cell_type": "markdown",
   "metadata": {},
   "source": [
    "Dunque: se gli operandi sono concordi (entrambi positivi o entrambi negativi) abbiamo un risultato, se sono discordi, il risultato e' un altro ....\n",
    "\n",
    "Quindi e' fondamentale essere consapevoldi di cosa stiamo facendo e capire quale e' il valore che ci interessa ... cosa stiamo cercando di valutare"
   ]
  },
  {
   "cell_type": "markdown",
   "metadata": {},
   "source": [
    "Quando passiamo all'operatore %, o resto della divisione, quale ci aspettiamo che sia il risultato dell'operazione -4 % 6?\n",
    "Partiamo dalla definizione di resto della divisione:\n",
    "E' il valore X tale per cui \n",
    "(-4 / 6) * 6 + X = -4\n",
    "-1 * 6 + X = -4\n",
    "X = 6 - 4 \n",
    "X = 2\n",
    "Controlliamo"
   ]
  },
  {
   "cell_type": "code",
   "execution_count": 13,
   "metadata": {},
   "outputs": [
    {
     "data": {
      "text/plain": [
       "2"
      ]
     },
     "execution_count": 13,
     "metadata": {},
     "output_type": "execute_result"
    }
   ],
   "source": [
    "-4 % 6"
   ]
  },
  {
   "cell_type": "markdown",
   "metadata": {},
   "source": [
    "Dopo questa gita, digressione, nel mondo dei numeri interi relativi e degli operatori di divisione e resto della divisione tra interi, torniamo al gioco.\n",
    "A cosa serve l'operatore % in questo contesto?"
   ]
  },
  {
   "cell_type": "code",
   "execution_count": null,
   "metadata": {},
   "outputs": [],
   "source": []
  },
  {
   "cell_type": "code",
   "execution_count": 1,
   "metadata": {},
   "outputs": [
    {
     "name": "stdout",
     "output_type": "stream",
     "text": [
      "Inserisci un numero di tre cifre, con la prima e l'ultima diverse di almeno 2 unita': 431\n",
      "1089\n"
     ]
    }
   ],
   "source": [
    "nums = input('Inserisci un numero di tre cifre, con la prima e l\\'ultima diverse di almeno 2 unita\\': ')\n",
    "numi = int(nums)\n",
    "tmp = numi\n",
    "#print(numi)\n",
    "dx = tmp % 10\n",
    "tmp = tmp // 10\n",
    "med = tmp % 10\n",
    "tmp = tmp // 10\n",
    "sx = tmp % 10\n",
    "numirev = sx + 10 * med + 100 * dx\n",
    "#print(numirev)\n",
    "diff = numi - numirev\n",
    "if (diff < 0):\n",
    "    diff = -diff\n",
    "#print(diff)\n",
    "tmp = diff\n",
    "dx = tmp % 10\n",
    "tmp = tmp // 10\n",
    "med = tmp % 10\n",
    "tmp = tmp // 10\n",
    "sx = tmp % 10\n",
    "diffrev = sx + 10 * med + 100 * dx\n",
    "#print diffrev\n",
    "ris = diff + diffrev\n",
    "print(ris)"
   ]
  },
  {
   "cell_type": "code",
   "execution_count": 30,
   "metadata": {},
   "outputs": [
    {
     "name": "stdout",
     "output_type": "stream",
     "text": [
      "Inserisci un numero di tre cifre, con la prima e l'ultima diverse di almeno 2 unita': 511\n",
      "1089\n"
     ]
    }
   ],
   "source": [
    "nums = input('Inserisci un numero di tre cifre, con la prima e l\\'ultima diverse di almeno 2 unita\\': ')\n",
    "numi = int(nums)\n",
    "tmp = numi\n",
    "rev = 0\n",
    "while tmp > 0:\n",
    "    cifra = tmp % 10\n",
    "    rev = rev * 10 + cifra\n",
    "    tmp = tmp // 10\n",
    "numirev = rev\n",
    "#print(numirev)\n",
    "diff = numi - numirev\n",
    "if (diff < 0):\n",
    "    diff = -diff\n",
    "#print(diff)\n",
    "tmp = diff\n",
    "rev = 0\n",
    "while tmp > 0:\n",
    "    cifra = tmp % 10\n",
    "    rev = rev * 10 + cifra\n",
    "    tmp = tmp // 10\n",
    "diffrev = rev\n",
    "#print diffrev\n",
    "ris = diff + diffrev\n",
    "print(ris)"
   ]
  },
  {
   "cell_type": "markdown",
   "metadata": {},
   "source": [
    "Introduciamo un sottoprogramma che calcola il valore assoluto di un numero. E' una operazione talmente frequente e standard, che esiste un sottoprogramma che ricevuto in ingresso un valore, calcola e restituisce il suo valore assoluto. Si chiama abs."
   ]
  },
  {
   "cell_type": "code",
   "execution_count": 31,
   "metadata": {},
   "outputs": [
    {
     "name": "stdout",
     "output_type": "stream",
     "text": [
      "Inserisci un numero di tre cifre, con la prima e l'ultima diverse di almeno 2 unita': 541\n",
      "1089\n"
     ]
    }
   ],
   "source": [
    "nums = input('Inserisci un numero di tre cifre, con la prima e l\\'ultima diverse di almeno 2 unita\\': ')\n",
    "numi = int(nums)\n",
    "tmp = numi\n",
    "rev = 0\n",
    "while tmp > 0:\n",
    "    cifra = tmp % 10\n",
    "    rev = rev * 10 + cifra\n",
    "    tmp = tmp // 10\n",
    "numirev = rev\n",
    "#print(numirev)\n",
    "diff = abs(numi - numirev)\n",
    "tmp = diff\n",
    "rev = 0\n",
    "while tmp > 0:\n",
    "    cifra = tmp % 10\n",
    "    rev = rev * 10 + cifra\n",
    "    tmp = tmp // 10\n",
    "diffrev = rev\n",
    "#print diffrev\n",
    "ris = diff + diffrev\n",
    "print(ris)"
   ]
  },
  {
   "cell_type": "markdown",
   "metadata": {},
   "source": [
    "L'ipotesi di partenza e' che l'utente non si confonda e fornisca un numero di 3 cifre che rispetti il vincolo tra la prima e l'ultima cifra (ossia che differiscano di almeno due unita'). Ma se cosi' non e' e dobbiamo assicurarci che il valore inserito vada bene?"
   ]
  },
  {
   "cell_type": "markdown",
   "metadata": {},
   "source": [
    "Introduciamo un controllo sul valore in ingresso:\n",
    "1. controlliamo che siano esattamente 3 cifre\n",
    "2. controlliamo che la prima e l'ultima differiscano di almeno due unita'"
   ]
  },
  {
   "cell_type": "code",
   "execution_count": null,
   "metadata": {},
   "outputs": [],
   "source": [
    "tmp = numi\n",
    "dx = tmp % 10\n",
    "tmp = tmp // 10\n",
    "med = tmp % 10\n",
    "tmp = tmp // 10\n",
    "sx = tmp % 10"
   ]
  },
  {
   "cell_type": "code",
   "execution_count": null,
   "metadata": {},
   "outputs": [],
   "source": [
    "if sx == 0:\n",
    "    errore = True\n",
    "if abs(dx-sx) < 2:\n",
    "    errore = True"
   ]
  },
  {
   "cell_type": "code",
   "execution_count": null,
   "metadata": {},
   "outputs": [],
   "source": [
    "if sx == 0 or abs(dx-sx) < 2:\n",
    "    errore = True"
   ]
  },
  {
   "cell_type": "code",
   "execution_count": null,
   "metadata": {},
   "outputs": [],
   "source": [
    "tmp = numi\n",
    "lsd = tmp % 10\n",
    "ncifre = 1\n",
    "rev = lsd\n",
    "tmp = tmp // 10\n",
    "while tmp > 10:\n",
    "    cifra = tmp % 10\n",
    "    rev = rev * 10 + cifra\n",
    "    ncifre = ncifre + 1\n",
    "    tmp = tmp // 10\n",
    "#quando siamo qua, c'e' una sola cifra ...\n",
    "msd = tmp\n",
    "rev = rev * 10 + tmp\n",
    "ncifre = ncifre + 1\n",
    "if ncifre < 3 or abs(msd - lsd) < 2:\n",
    "    errore = True"
   ]
  },
  {
   "cell_type": "code",
   "execution_count": null,
   "metadata": {},
   "outputs": [],
   "source": [
    "tmp = numi\n",
    "rev = 0\n",
    "ncifre = 0\n",
    "while tmp > 0:\n",
    "    cifra = tmp % 10\n",
    "    rev = rev * 10 + cifra\n",
    "    ncifre = ncifre + 1\n",
    "    tmp = tmp // 10\n",
    "numirev = rev\n",
    "if ncifre < 3 or abs((numi % 10) - (numirev % 10)) < 2:\n",
    "    errore = True"
   ]
  },
  {
   "cell_type": "markdown",
   "metadata": {},
   "source": [
    "Cosa facciamo una volta che abbiamo scoperto che il dato non va bene?\n",
    "NON ANDIAMO AVANTI"
   ]
  },
  {
   "cell_type": "code",
   "execution_count": 33,
   "metadata": {},
   "outputs": [
    {
     "name": "stdout",
     "output_type": "stream",
     "text": [
      "Inserisci un numero di tre cifre, con la prima e l'ultima diverse di almeno 2 unita': 614\n",
      "1089\n"
     ]
    }
   ],
   "source": [
    "nums = input('Inserisci un numero di tre cifre, con la prima e l\\'ultima diverse di almeno 2 unita\\': ')\n",
    "numi = int(nums)\n",
    "tmp = numi\n",
    "rev = 0\n",
    "ncifre = 0\n",
    "while tmp > 0:\n",
    "    cifra = tmp % 10\n",
    "    rev = rev * 10 + cifra\n",
    "    ncifre = ncifre + 1\n",
    "    tmp = tmp // 10\n",
    "numirev = rev\n",
    "if ncifre == 3 and abs((numi % 10) - (numirev % 10)) >= 2:    \n",
    "    diff = abs(numi - numirev)\n",
    "    tmp = diff\n",
    "    rev = 0\n",
    "    while tmp > 0:\n",
    "        cifra = tmp % 10\n",
    "        rev = rev * 10 + cifra\n",
    "        tmp = tmp // 10\n",
    "    diffrev = rev\n",
    "    #print diffrev\n",
    "    ris = diff + diffrev\n",
    "    print(ris)\n",
    "else:\n",
    "    print('Il numero inserito non rispetta i vincoli')"
   ]
  },
  {
   "cell_type": "markdown",
   "metadata": {},
   "source": [
    "Un po' scocciante dal punto di vista dell'utente (distratto!)\n",
    "CHIEDIAMO IL VALORE INIZIALE FINO A QUANDO NON RISPETTA I VINCOLI"
   ]
  },
  {
   "cell_type": "code",
   "execution_count": 35,
   "metadata": {},
   "outputs": [
    {
     "name": "stdout",
     "output_type": "stream",
     "text": [
      "Inserisci un numero di tre cifre, con la prima e l'ultima diverse di almeno 2 unita': 655\n",
      "Inserisci un numero di tre cifre, con la prima e l'ultima diverse di almeno 2 unita': 653\n",
      "1089\n"
     ]
    }
   ],
   "source": [
    "datononok = True\n",
    "while datononok:\n",
    "    nums = input('Inserisci un numero di tre cifre, con la prima e l\\'ultima diverse di almeno 2 unita\\': ')\n",
    "    numi = int(nums)\n",
    "    tmp = numi\n",
    "    rev = 0\n",
    "    ncifre = 0\n",
    "    while tmp > 0:\n",
    "        cifra = tmp % 10\n",
    "        rev = rev * 10 + cifra\n",
    "        ncifre = ncifre + 1\n",
    "        tmp = tmp // 10\n",
    "    numirev = rev\n",
    "    if ncifre == 3 and abs((numi % 10) - (numirev % 10)) >= 2:\n",
    "        datononok = False\n",
    "diff = abs(numi - numirev)\n",
    "tmp = diff\n",
    "rev = 0\n",
    "while tmp > 0:\n",
    "    cifra = tmp % 10\n",
    "    rev = rev * 10 + cifra\n",
    "    tmp = tmp // 10\n",
    "diffrev = rev\n",
    "#print diffrev\n",
    "ris = diff + diffrev\n",
    "print(ris)\n"
   ]
  },
  {
   "cell_type": "markdown",
   "metadata": {},
   "source": [
    "Si tratta di un \"ciclo a condizione finale\", il corpo del ciclo viene eseguito almeno una volta e se la condizione e' vera, lo si esegue nuovamente, fino a che la condizione e' vera.\n",
    "Il costrutto while e' un costrutto per realizzare un \"ciclo a condizione iniziale\", quindi per realizzare un ciclo a condizione finale, si scrive qualcosa che ha la seguente struttura\n",
    "\n",
    "corpo_del_ciclo\n",
    "while condizione_e_vera:\n",
    "    corpo_del_ciclo\n",
    "\n",
    "Nel corpo_del_ciclo c'e' anche una istruzione che va a modificare i valori delle variabili valutate nella condizione, altrimenti si avrebbe un ciclo che non termina mai ... (ciclo infinito)"
   ]
  },
  {
   "cell_type": "markdown",
   "metadata": {},
   "source": [
    "Questa struttura ci permette pero' anche di andare a scrivere due messaggi leggermente diversi (il che fa si che non sia piu' una struttura esattamente identica a quella prima descritta, perche' i costrutti prima del while e dentro il while non sono identici)."
   ]
  },
  {
   "cell_type": "code",
   "execution_count": null,
   "metadata": {},
   "outputs": [],
   "source": [
    "#prima acquisizione\n",
    "nums = input(\"Inserisci un numero di tre cifre, con la prima e l\\'ultima diverse di almeno 2 unità: \")\n",
    "numi = int(nums)\n",
    "tmp = numi\n",
    "rev = 0\n",
    "ncifre = 0\n",
    "while tmp > 0:\n",
    "    cifra = tmp % 10\n",
    "    rev = rev * 10 + cifra\n",
    "    ncifre = ncifre + 1\n",
    "    tmp = tmp // 10\n",
    "numirev = rev\n",
    "print(numirev)\n",
    "#nel caso in cui il valore non rispetti i vincoli, fino a che i vincoli sono violati si richiede\n",
    "while ncifre < 3 or abs((numi % 10) - (numirev % 10)) < 2:\n",
    "    print('Attenzione: il numero deve avere 3 cifre, e la prima e l\\'ultima devono differire di almeno 2 unità')\n",
    "    nums = input('Inserisci nuovamente un numero: ')\n",
    "    numi = int(nums)\n",
    "    tmp = numi\n",
    "    rev = 0\n",
    "    ncifre = 0\n",
    "    while tmp > 0:\n",
    "        cifra = tmp % 10\n",
    "        rev = rev * 10 + cifra\n",
    "        ncifre = ncifre + 1\n",
    "        tmp = tmp // 10\n",
    "numirev = rev\n",
    "diff = abs(numi - numirev)\n",
    "tmp = diff\n",
    "rev = 0\n",
    "while tmp > 0:\n",
    "    cifra = tmp % 10\n",
    "    rev = rev * 10 + cifra\n",
    "    tmp = tmp // 10\n",
    "diffrev = rev\n",
    "#print diffrev\n",
    "ris = diff + diffrev\n",
    "print(ris)    "
   ]
  },
  {
   "cell_type": "markdown",
   "metadata": {},
   "source": [
    "E' possibile differenziare il controllo di validita' in modo da dare messaggi d'errore piu' specifici (il numero di cifre sono sbagliate e/o la differenza tra la prima e l'ultima non e' corretta ...)"
   ]
  },
  {
   "cell_type": "markdown",
   "metadata": {},
   "source": [
    "Abbiamo scritto le condizioni per individuare l'errore del dato in ingresso in modi differenti, e abbiamo anche scritto la condizione del ciclo while in modo \"opposto\" rispetto a quella che rileva che il valore va bene. \n",
    "Nel nostro caso:\n",
    "il numero va bene SE: numero di cifre > 2 E differenza tra le cifre > 1\n",
    "il numero non va bene SE: numero di cifre < 3 OPPURE differenza tra le cifre < 2\n"
   ]
  },
  {
   "cell_type": "markdown",
   "metadata": {},
   "source": [
    "### cosa ci portiamo a casa?\n",
    "1. dettagli sugli operatori / e % applicati a operandi interi\n",
    "2. dato un numero, come si calcola il numero le cui cifre sono in ordine inverso\n",
    "3. il sottoprogramma che calcola il valore assoluto abs\n",
    "4. acquisizione controllata dei valori in ingresso\n",
    "5. teorema di De Morgan"
   ]
  },
  {
   "cell_type": "code",
   "execution_count": null,
   "metadata": {},
   "outputs": [],
   "source": []
  }
 ],
 "metadata": {
  "kernelspec": {
   "display_name": "Python 2",
   "language": "python",
   "name": "python2"
  },
  "language_info": {
   "codemirror_mode": {
    "name": "ipython",
    "version": 2
   },
   "file_extension": ".py",
   "mimetype": "text/x-python",
   "name": "python",
   "nbconvert_exporter": "python",
   "pygments_lexer": "ipython2",
   "version": "2.7.15"
  }
 },
 "nbformat": 4,
 "nbformat_minor": 2
}
