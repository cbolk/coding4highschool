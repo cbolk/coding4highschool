{
 "cells": [
  {
   "cell_type": "code",
   "execution_count": 19,
   "metadata": {},
   "outputs": [
    {
     "name": "stdout",
     "output_type": "stream",
     "text": [
      "Nome del cantante o del gruppo: manesquin\n",
      "Nome del file che contiene i testi delle canzoni: man.txt\n",
      "Lingua italiano (I) o inglese (E)?I\n",
      "parole totali: 1803 diverse e significative: 334\n",
      "creato il file con le parole e frequenze: res/man.out.js\n",
      "creato il file html con il word cloud per manesquin: man.html\n"
     ]
    }
   ],
   "source": [
    "#import nltk\n",
    "import string\n",
    "exclude = set(string.punctuation)\n",
    "\n",
    "FNAMESTOPWORDSEN = \"stopWords.txt\"\n",
    "FNAMESTOPWORDSIT = \"stopWords.it.txt\"\n",
    "SEPEXT = \".\"\n",
    "OUTEXT = SEPEXT + \"out.js\"\n",
    "HTMLEXT = SEPEXT + \"html\"\n",
    "OUTDIR = \"res/\"\n",
    "THRESHOLD = 5\n",
    "SKELFILE = \"skel.html\"\n",
    "TITLETAG = \"NOMEARTISTA\"\n",
    "FILETAG = \"FILEARTISTA\"\n",
    "nome = raw_input('Nome del cantante o del gruppo: ')\n",
    "fnameText = raw_input('Nome del file che contiene i testi delle canzoni: ')\n",
    "lingua = raw_input('Lingua italiano (I) o inglese (E)?')\n",
    "if lingua == 'I':\n",
    "    fnameSW = FNAMESTOPWORDSIT\n",
    "else:\n",
    "    fnameSW = FNAMESTOPWORDSEN \n",
    "#lista di parole da non considerare\n",
    "swlist = []\n",
    "fps = open(fnameSW, \"r\")\n",
    "for word in fps:\n",
    "    word = word.replace(\"\\n\",\"\")\n",
    "    word = word.replace(\"\\r\",\"\")\n",
    "    word = ''.join(ch for ch in word if ch not in exclude)\n",
    "    swlist.append(word)\n",
    "fps.close\n",
    "#print swlist\n",
    "parole = {}\n",
    "fin = open(fnameText, \"r\")\n",
    "nparole = 0\n",
    "for line in fin:\n",
    "    #togliamo la punteggiatura\n",
    "    line = ''.join(ch for ch in line if ch not in exclude)\n",
    "    #words = nltk.word_tokenize(line)\n",
    "    line = line.replace(\"\\n\", \"\")\n",
    "    words = line.split(\" \")\n",
    "    #print words\n",
    "    nparole = nparole + len(words)\n",
    "    for w in words:\n",
    "        w = w.lower()\n",
    "        if w not in swlist:\n",
    "            #parola interessante\n",
    "            if w in parole:\n",
    "                parole[w] = int(parole.get(w, \"none\")) + 1\n",
    "            else:\n",
    "                parole[w] = 1\n",
    "fin.close()\n",
    "print (\"parole totali: \" + str(nparole) + \" diverse e significative: \" + str(len(parole)))\n",
    "#print parole\n",
    "\n",
    "#lista dei tag significativi\n",
    "taglist = \"\"\n",
    "for key, value in sorted(parole.iteritems(), key=lambda item: (item[0])):\n",
    "    if value > THRESHOLD:\n",
    "        taglist = taglist + '{\"key\": \"' + key + '\", \"value\" : ' + str(value) + '},'\n",
    "#rimuoviamo la virgola extra alla fine \n",
    "taglist = taglist[:-1]\n",
    "taglist = \"var tags = [\" + taglist + \"];\"\n",
    "\n",
    "#nome del file in cui mettere i risultati:\n",
    "#nome in ingresso con l'estensione sostituita da out.js\n",
    "#esempio: imaginedragons.txt imaginedragons.out.js\n",
    "posSep = len(fnameText) - 1\n",
    "while fnameText[posSep] != SEPEXT:\n",
    "    posSep = posSep - 1\n",
    "fnameNoExt = fnameText[0:posSep]\n",
    "fnameOut = OUTDIR + fnameNoExt + OUTEXT\n",
    "\n",
    "fout = open(fnameOut, \"w\")\n",
    "fout.write(taglist)\n",
    "fout.close()\n",
    "print (\"creato il file con le parole e frequenze: \" + fnameOut)\n",
    "\n",
    "## copia lo scheletro html e crea il file per l'artista\n",
    "fin = open(SKELFILE, \"r\")\n",
    "htmltext = fin.read()\n",
    "fin.close()\n",
    "htmltext = htmltext.replace(TITLETAG,nome)\n",
    "htmltext = htmltext.replace(FILETAG,fnameOut)\n",
    "fnameHTML = fnameNoExt + HTMLEXT\n",
    "fout = open(fnameHTML,\"w\")\n",
    "fout.write(htmltext)\n",
    "fout.close()\n",
    "\n",
    "print (\"creato il file html con il word cloud per \" + nome + \": \" + fnameHTML)"
   ]
  },
  {
   "cell_type": "markdown",
   "metadata": {},
   "source": [
    "Come identifichiamo le varie parole della frase?"
   ]
  },
  {
   "cell_type": "code",
   "execution_count": 13,
   "metadata": {},
   "outputs": [
    {
     "data": {
      "text/plain": [
       "['So', 'I', 'said', 'hey', 'turn', 'your', 'phone', 'off']"
      ]
     },
     "execution_count": 13,
     "metadata": {},
     "output_type": "execute_result"
    }
   ],
   "source": [
    "import nltk\n",
    "import string\n",
    "exclude = set(string.punctuation)\n",
    "line = \"So I said hey, turn your phone off\"\n",
    "line = ''.join(ch for ch in line if ch not in exclude)\n",
    "words = nltk.word_tokenize(line)\n",
    "words"
   ]
  },
  {
   "cell_type": "markdown",
   "metadata": {},
   "source": [
    "Aggiungiamo il nome dell'artista facendo in modo che sia il tag piu' grande possibile\n",
    "Guardiamo quale e' il valore piu' elevato presente, e creiamo un tag con un 10% in piu' di frequenza ...\n",
    "Dobbiamo trovare il numero piu' grande di frequenze"
   ]
  },
  {
   "cell_type": "code",
   "execution_count": null,
   "metadata": {},
   "outputs": [],
   "source": [
    "paroleordinate = sorted(parole.iteritems(), key=lambda item: (-item[1], item[0]))\n"
   ]
  },
  {
   "cell_type": "code",
   "execution_count": 2,
   "metadata": {},
   "outputs": [
    {
     "name": "stdout",
     "output_type": "stream",
     "text": [
      "Nome del cantante o del gruppo: .\n",
      "Nome del file che contiene i testi delle canzoni: jax.txt\n",
      "parole totali: 889 diverse: 370\n",
      "creato il file con le parole e frequenze: res/jax.out.js\n",
      "creato il file html con il word cloud per .: jax.html\n"
     ]
    }
   ],
   "source": [
    "import nltk\n",
    "import string\n",
    "exclude = set(string.punctuation)\n",
    "\n",
    "FNAMESTOPWORDS = \"stopWords.txt\"\n",
    "SEPEXT = \".\"\n",
    "OUTEXT = SEPEXT + \"out.js\"\n",
    "HTMLEXT = SEPEXT + \"html\"\n",
    "OUTDIR = \"res/\"\n",
    "THRESHOLD = 10\n",
    "SKELFILE = \"skel.html\"\n",
    "TITLETAG = \"NOMEARTISTA\"\n",
    "FILETAG = \"FILEARTISTA\"\n",
    "\n",
    "swlist = []\n",
    "fps = open(FNAMESTOPWORDS, \"r\")\n",
    "for word in fps:\n",
    "    word = word.replace(\"\\n\",\"\")\n",
    "    word = ''.join(ch for ch in word if ch not in exclude)\n",
    "    swlist.append(word)\n",
    "fps.close\n",
    "#print swlist\n",
    "parole = {}\n",
    "nome = raw_input('Nome del cantante o del gruppo: ')\n",
    "fnameText = raw_input('Nome del file che contiene i testi delle canzoni: ')\n",
    "fin = open(fnameText, \"r\")\n",
    "nparole = 0\n",
    "for line in fin:\n",
    "    #togliamo la punteggiatura\n",
    "    line = ''.join(ch for ch in line if ch not in exclude)\n",
    "    words = nltk.word_tokenize(line)\n",
    "    nparole = nparole + len(words)\n",
    "    for w in words:\n",
    "        w = w.lower()\n",
    "        if w not in swlist:\n",
    "            if w in parole:\n",
    "                parole[w] = int(parole.get(w, \"none\")) + 1\n",
    "            else:\n",
    "                parole[w] = 1\n",
    "fin.close()\n",
    "print \"parole totali: \" + str(nparole) + \" diverse: \" + str(len(parole))\n",
    "\n",
    "#lista dei tag significativi\n",
    "#aggiungiamo il nome dell'artista\n",
    "paroleordinate = sorted(parole.iteritems(), key=lambda item: (-item[1], item[0]))\n",
    "coppiatop = paroleordinate[0]\n",
    "valorepiualto = coppiatop[1]\n",
    "taglist = '{\"key\": \"' + nome + '\", \"value\" : ' + str(valorepiualto+2) + '},'\n",
    "for key, value in sorted(parole.iteritems(), key=lambda item: (item[0])):\n",
    "    if value > THRESHOLD:\n",
    "        taglist = taglist + '{\"key\": \"' + key + '\", \"value\" : ' + str(value) + '},'\n",
    "#rimuoviamo la virgola extra alla fine \n",
    "taglist = taglist[:-1]\n",
    "taglist = \"var tags = [\" + taglist + \"];\"\n",
    "\n",
    "\n",
    "#nome del file in cui mettere i risultati:\n",
    "#nome in ingresso con l'estensione sostituita da out.js\n",
    "#esempio: imaginedragons.txt imaginedragons.out.js\n",
    "posSep = len(fnameText) - 1\n",
    "while fnameText[posSep] != SEPEXT:\n",
    "    posSep = posSep - 1\n",
    "fnameNoExt = fnameText[0:posSep]\n",
    "fnameOut = OUTDIR + fnameNoExt + OUTEXT\n",
    "\n",
    "fout = open(fnameOut, \"w\")\n",
    "fout.write(taglist)\n",
    "fout.close()\n",
    "print \"creato il file con le parole e frequenze: \" + fnameOut\n",
    "\n",
    "## copia lo scheletro html e crea il file per l'artista\n",
    "fin = open(SKELFILE, \"r\")\n",
    "htmltext = fin.read()\n",
    "fin.close()\n",
    "htmltext = htmltext.replace(TITLETAG,nome.title())\n",
    "htmltext = htmltext.replace(FILETAG,fnameOut)\n",
    "fnameHTML = fnameNoExt + HTMLEXT\n",
    "fout = open(fnameHTML,\"w\")\n",
    "fout.write(htmltext)\n",
    "fout.close()\n",
    "\n",
    "print \"creato il file html con il word cloud per \" + nome + \": \" + fnameHTML"
   ]
  },
  {
   "cell_type": "markdown",
   "metadata": {},
   "source": [
    "Non e' facile scegliere un valore di soglia, e l'utente non e' necessariamente piu' bravo di un valore \"di buon senso\"\n",
    "Proviamo a scegliere un valore che dipenda un po' dalle reali frequenze...\n"
   ]
  },
  {
   "cell_type": "code",
   "execution_count": null,
   "metadata": {},
   "outputs": [],
   "source": []
  }
 ],
 "metadata": {
  "kernelspec": {
   "display_name": "Python 2",
   "language": "python",
   "name": "python2"
  },
  "language_info": {
   "codemirror_mode": {
    "name": "ipython",
    "version": 2
   },
   "file_extension": ".py",
   "mimetype": "text/x-python",
   "name": "python",
   "nbconvert_exporter": "python",
   "pygments_lexer": "ipython2",
   "version": "2.7.15"
  }
 },
 "nbformat": 4,
 "nbformat_minor": 2
}
